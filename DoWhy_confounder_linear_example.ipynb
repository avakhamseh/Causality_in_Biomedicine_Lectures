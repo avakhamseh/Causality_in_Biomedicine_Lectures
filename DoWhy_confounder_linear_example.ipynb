{
 "cells": [
  {
   "cell_type": "markdown",
   "metadata": {},
   "source": [
    "# Confounding Example: Finding causal effects from observed data\n",
    "\n",
    "Suppose you are given some data with treatment and outcome. Can you determine whether the treatment causes the outcome, or is the correlation purely due to another common cause?\n",
    "\n",
    "This jupyter notebook is based on the DoWhy tutorial: https://microsoft.github.io/dowhy/example_notebooks/dowhy_confounder_example.html\n",
    "\n",
    "Here we have made the linear model and the graph explicit."
   ]
  },
  {
   "cell_type": "code",
   "execution_count": 1,
   "metadata": {},
   "outputs": [
    {
     "name": "stderr",
     "output_type": "stream",
     "text": [
      "/anaconda3/envs/py37/lib/python3.7/site-packages/matplotlib/__init__.py:886: MatplotlibDeprecationWarning: \n",
      "examples.directory is deprecated; in the future, examples will be found relative to the 'datapath' directory.\n",
      "  \"found relative to the 'datapath' directory.\".format(key))\n"
     ]
    }
   ],
   "source": [
    "import numpy as np\n",
    "import pandas as pd\n",
    "import dowhy\n",
    "import matplotlib.pyplot as plt\n",
    "import seaborn as sns\n",
    "import math\n",
    "from sklearn import linear_model\n",
    "from dowhy import CausalModel\n",
    "import dowhy.datasets, dowhy.plotter\n",
    "from IPython.display import Image, display"
   ]
  },
  {
   "cell_type": "markdown",
   "metadata": {},
   "source": [
    "## Two linear models\n",
    "\n",
    "Creating the dataset. It is generated from either of two models:\n",
    "* **Model 1**: Treatment does cause outcome. \n",
    "* **Model 2**: Treatment does not cause outcome. All observed correlation is due to a common cause."
   ]
  },
  {
   "cell_type": "code",
   "execution_count": 2,
   "metadata": {},
   "outputs": [],
   "source": [
    "def model(num_samples, effect=True, sd_error=1):\n",
    "    treatment = 'Treatment'\n",
    "    outcome = 'Outcome'\n",
    "    common_causes = ['common']\n",
    "    E1 = np.random.normal(loc=0, scale=sd_error, size=num_samples)\n",
    "    E2 = np.random.normal(loc=0, scale=sd_error, size=num_samples)\n",
    "    X = np.random.normal(loc=1, scale=sd_error*2, size=num_samples)\n",
    "    T = X + E1\n",
    "    if effect:\n",
    "        Y = 1 + T + X + E2\n",
    "    else: \n",
    "        Y = 1 + X + E2\n",
    "    dat = {\n",
    "        treatment: T,\n",
    "        outcome: Y,\n",
    "        common_causes[0]: X \n",
    "    }\n",
    "    data = pd.DataFrame(data=dat)\n",
    "    ret_dict = {\n",
    "        \"df\": data,\n",
    "        \"treatment_name\": treatment,\n",
    "        \"outcome_name\": outcome,\n",
    "        \"common_causes_names\": common_causes,\n",
    "        \"instrument_names\": None,\n",
    "        \"dot_graph\": None,\n",
    "        \"gml_graph\": None,\n",
    "        \"ate\": None,\n",
    "    }\n",
    "    return ret_dict"
   ]
  },
  {
   "cell_type": "code",
   "execution_count": 3,
   "metadata": {
    "scrolled": true
   },
   "outputs": [
    {
     "data": {
      "text/html": [
       "<div>\n",
       "<style scoped>\n",
       "    .dataframe tbody tr th:only-of-type {\n",
       "        vertical-align: middle;\n",
       "    }\n",
       "\n",
       "    .dataframe tbody tr th {\n",
       "        vertical-align: top;\n",
       "    }\n",
       "\n",
       "    .dataframe thead th {\n",
       "        text-align: right;\n",
       "    }\n",
       "</style>\n",
       "<table border=\"1\" class=\"dataframe\">\n",
       "  <thead>\n",
       "    <tr style=\"text-align: right;\">\n",
       "      <th></th>\n",
       "      <th>Treatment</th>\n",
       "      <th>Outcome</th>\n",
       "      <th>common</th>\n",
       "    </tr>\n",
       "  </thead>\n",
       "  <tbody>\n",
       "    <tr>\n",
       "      <th>0</th>\n",
       "      <td>0.719802</td>\n",
       "      <td>1.548032</td>\n",
       "      <td>0.610514</td>\n",
       "    </tr>\n",
       "    <tr>\n",
       "      <th>1</th>\n",
       "      <td>0.585655</td>\n",
       "      <td>1.503280</td>\n",
       "      <td>0.776089</td>\n",
       "    </tr>\n",
       "    <tr>\n",
       "      <th>2</th>\n",
       "      <td>0.051558</td>\n",
       "      <td>1.164839</td>\n",
       "      <td>0.274737</td>\n",
       "    </tr>\n",
       "    <tr>\n",
       "      <th>3</th>\n",
       "      <td>0.502674</td>\n",
       "      <td>1.549806</td>\n",
       "      <td>0.389772</td>\n",
       "    </tr>\n",
       "    <tr>\n",
       "      <th>4</th>\n",
       "      <td>1.035748</td>\n",
       "      <td>1.791152</td>\n",
       "      <td>0.868527</td>\n",
       "    </tr>\n",
       "    <tr>\n",
       "      <th>5</th>\n",
       "      <td>1.708381</td>\n",
       "      <td>2.378310</td>\n",
       "      <td>1.416140</td>\n",
       "    </tr>\n",
       "    <tr>\n",
       "      <th>6</th>\n",
       "      <td>0.590156</td>\n",
       "      <td>2.016249</td>\n",
       "      <td>0.756973</td>\n",
       "    </tr>\n",
       "    <tr>\n",
       "      <th>7</th>\n",
       "      <td>1.426901</td>\n",
       "      <td>1.858046</td>\n",
       "      <td>1.249063</td>\n",
       "    </tr>\n",
       "    <tr>\n",
       "      <th>8</th>\n",
       "      <td>0.904934</td>\n",
       "      <td>1.603984</td>\n",
       "      <td>0.463760</td>\n",
       "    </tr>\n",
       "    <tr>\n",
       "      <th>9</th>\n",
       "      <td>0.492027</td>\n",
       "      <td>1.085579</td>\n",
       "      <td>0.544941</td>\n",
       "    </tr>\n",
       "    <tr>\n",
       "      <th>10</th>\n",
       "      <td>1.557953</td>\n",
       "      <td>2.487772</td>\n",
       "      <td>1.539847</td>\n",
       "    </tr>\n",
       "    <tr>\n",
       "      <th>11</th>\n",
       "      <td>0.906062</td>\n",
       "      <td>1.787748</td>\n",
       "      <td>0.794208</td>\n",
       "    </tr>\n",
       "    <tr>\n",
       "      <th>12</th>\n",
       "      <td>0.527407</td>\n",
       "      <td>1.559883</td>\n",
       "      <td>0.673930</td>\n",
       "    </tr>\n",
       "    <tr>\n",
       "      <th>13</th>\n",
       "      <td>1.693725</td>\n",
       "      <td>2.901274</td>\n",
       "      <td>1.803332</td>\n",
       "    </tr>\n",
       "    <tr>\n",
       "      <th>14</th>\n",
       "      <td>0.668445</td>\n",
       "      <td>1.731919</td>\n",
       "      <td>0.663139</td>\n",
       "    </tr>\n",
       "    <tr>\n",
       "      <th>15</th>\n",
       "      <td>0.536637</td>\n",
       "      <td>1.515343</td>\n",
       "      <td>0.743773</td>\n",
       "    </tr>\n",
       "    <tr>\n",
       "      <th>16</th>\n",
       "      <td>1.500795</td>\n",
       "      <td>2.126066</td>\n",
       "      <td>1.120935</td>\n",
       "    </tr>\n",
       "    <tr>\n",
       "      <th>17</th>\n",
       "      <td>0.625351</td>\n",
       "      <td>1.677567</td>\n",
       "      <td>0.691277</td>\n",
       "    </tr>\n",
       "    <tr>\n",
       "      <th>18</th>\n",
       "      <td>0.765789</td>\n",
       "      <td>1.478320</td>\n",
       "      <td>0.495322</td>\n",
       "    </tr>\n",
       "    <tr>\n",
       "      <th>19</th>\n",
       "      <td>0.801796</td>\n",
       "      <td>1.272719</td>\n",
       "      <td>0.324281</td>\n",
       "    </tr>\n",
       "    <tr>\n",
       "      <th>20</th>\n",
       "      <td>0.989422</td>\n",
       "      <td>1.833005</td>\n",
       "      <td>0.909444</td>\n",
       "    </tr>\n",
       "    <tr>\n",
       "      <th>21</th>\n",
       "      <td>1.038189</td>\n",
       "      <td>2.124369</td>\n",
       "      <td>1.130561</td>\n",
       "    </tr>\n",
       "    <tr>\n",
       "      <th>22</th>\n",
       "      <td>1.226000</td>\n",
       "      <td>2.049914</td>\n",
       "      <td>1.101890</td>\n",
       "    </tr>\n",
       "    <tr>\n",
       "      <th>23</th>\n",
       "      <td>1.662517</td>\n",
       "      <td>3.032993</td>\n",
       "      <td>1.732467</td>\n",
       "    </tr>\n",
       "    <tr>\n",
       "      <th>24</th>\n",
       "      <td>0.600680</td>\n",
       "      <td>1.519173</td>\n",
       "      <td>0.668563</td>\n",
       "    </tr>\n",
       "    <tr>\n",
       "      <th>25</th>\n",
       "      <td>0.503849</td>\n",
       "      <td>1.862498</td>\n",
       "      <td>0.515480</td>\n",
       "    </tr>\n",
       "    <tr>\n",
       "      <th>26</th>\n",
       "      <td>1.303360</td>\n",
       "      <td>2.707396</td>\n",
       "      <td>1.385026</td>\n",
       "    </tr>\n",
       "    <tr>\n",
       "      <th>27</th>\n",
       "      <td>1.759130</td>\n",
       "      <td>2.171209</td>\n",
       "      <td>1.341779</td>\n",
       "    </tr>\n",
       "    <tr>\n",
       "      <th>28</th>\n",
       "      <td>0.581052</td>\n",
       "      <td>1.595871</td>\n",
       "      <td>0.731694</td>\n",
       "    </tr>\n",
       "    <tr>\n",
       "      <th>29</th>\n",
       "      <td>0.229506</td>\n",
       "      <td>1.825261</td>\n",
       "      <td>0.669595</td>\n",
       "    </tr>\n",
       "    <tr>\n",
       "      <th>...</th>\n",
       "      <td>...</td>\n",
       "      <td>...</td>\n",
       "      <td>...</td>\n",
       "    </tr>\n",
       "    <tr>\n",
       "      <th>9970</th>\n",
       "      <td>1.369213</td>\n",
       "      <td>2.118075</td>\n",
       "      <td>1.326068</td>\n",
       "    </tr>\n",
       "    <tr>\n",
       "      <th>9971</th>\n",
       "      <td>1.169251</td>\n",
       "      <td>1.714263</td>\n",
       "      <td>0.884259</td>\n",
       "    </tr>\n",
       "    <tr>\n",
       "      <th>9972</th>\n",
       "      <td>1.798082</td>\n",
       "      <td>2.733948</td>\n",
       "      <td>1.835185</td>\n",
       "    </tr>\n",
       "    <tr>\n",
       "      <th>9973</th>\n",
       "      <td>1.137707</td>\n",
       "      <td>2.235698</td>\n",
       "      <td>1.208842</td>\n",
       "    </tr>\n",
       "    <tr>\n",
       "      <th>9974</th>\n",
       "      <td>0.208509</td>\n",
       "      <td>1.009531</td>\n",
       "      <td>0.119558</td>\n",
       "    </tr>\n",
       "    <tr>\n",
       "      <th>9975</th>\n",
       "      <td>1.358158</td>\n",
       "      <td>2.352646</td>\n",
       "      <td>1.368701</td>\n",
       "    </tr>\n",
       "    <tr>\n",
       "      <th>9976</th>\n",
       "      <td>0.433687</td>\n",
       "      <td>1.500749</td>\n",
       "      <td>0.850573</td>\n",
       "    </tr>\n",
       "    <tr>\n",
       "      <th>9977</th>\n",
       "      <td>1.019582</td>\n",
       "      <td>2.353207</td>\n",
       "      <td>1.366456</td>\n",
       "    </tr>\n",
       "    <tr>\n",
       "      <th>9978</th>\n",
       "      <td>1.386307</td>\n",
       "      <td>2.127387</td>\n",
       "      <td>1.181885</td>\n",
       "    </tr>\n",
       "    <tr>\n",
       "      <th>9979</th>\n",
       "      <td>0.911651</td>\n",
       "      <td>2.046303</td>\n",
       "      <td>0.906982</td>\n",
       "    </tr>\n",
       "    <tr>\n",
       "      <th>9980</th>\n",
       "      <td>1.103241</td>\n",
       "      <td>2.512489</td>\n",
       "      <td>1.334501</td>\n",
       "    </tr>\n",
       "    <tr>\n",
       "      <th>9981</th>\n",
       "      <td>0.211118</td>\n",
       "      <td>1.419999</td>\n",
       "      <td>0.612846</td>\n",
       "    </tr>\n",
       "    <tr>\n",
       "      <th>9982</th>\n",
       "      <td>0.789539</td>\n",
       "      <td>2.035229</td>\n",
       "      <td>0.851330</td>\n",
       "    </tr>\n",
       "    <tr>\n",
       "      <th>9983</th>\n",
       "      <td>0.667234</td>\n",
       "      <td>1.371528</td>\n",
       "      <td>0.830704</td>\n",
       "    </tr>\n",
       "    <tr>\n",
       "      <th>9984</th>\n",
       "      <td>1.782541</td>\n",
       "      <td>2.880688</td>\n",
       "      <td>1.879285</td>\n",
       "    </tr>\n",
       "    <tr>\n",
       "      <th>9985</th>\n",
       "      <td>1.694164</td>\n",
       "      <td>2.437833</td>\n",
       "      <td>1.658577</td>\n",
       "    </tr>\n",
       "    <tr>\n",
       "      <th>9986</th>\n",
       "      <td>0.649062</td>\n",
       "      <td>1.550013</td>\n",
       "      <td>0.511447</td>\n",
       "    </tr>\n",
       "    <tr>\n",
       "      <th>9987</th>\n",
       "      <td>1.366456</td>\n",
       "      <td>2.005938</td>\n",
       "      <td>1.018690</td>\n",
       "    </tr>\n",
       "    <tr>\n",
       "      <th>9988</th>\n",
       "      <td>1.057712</td>\n",
       "      <td>2.015139</td>\n",
       "      <td>1.201803</td>\n",
       "    </tr>\n",
       "    <tr>\n",
       "      <th>9989</th>\n",
       "      <td>1.073269</td>\n",
       "      <td>1.707748</td>\n",
       "      <td>1.053687</td>\n",
       "    </tr>\n",
       "    <tr>\n",
       "      <th>9990</th>\n",
       "      <td>1.405351</td>\n",
       "      <td>2.398671</td>\n",
       "      <td>1.608066</td>\n",
       "    </tr>\n",
       "    <tr>\n",
       "      <th>9991</th>\n",
       "      <td>1.915841</td>\n",
       "      <td>2.812170</td>\n",
       "      <td>1.940196</td>\n",
       "    </tr>\n",
       "    <tr>\n",
       "      <th>9992</th>\n",
       "      <td>0.622841</td>\n",
       "      <td>2.398773</td>\n",
       "      <td>0.814662</td>\n",
       "    </tr>\n",
       "    <tr>\n",
       "      <th>9993</th>\n",
       "      <td>1.170064</td>\n",
       "      <td>2.104304</td>\n",
       "      <td>1.116018</td>\n",
       "    </tr>\n",
       "    <tr>\n",
       "      <th>9994</th>\n",
       "      <td>1.907436</td>\n",
       "      <td>2.936794</td>\n",
       "      <td>1.813106</td>\n",
       "    </tr>\n",
       "    <tr>\n",
       "      <th>9995</th>\n",
       "      <td>1.102864</td>\n",
       "      <td>2.300340</td>\n",
       "      <td>1.433419</td>\n",
       "    </tr>\n",
       "    <tr>\n",
       "      <th>9996</th>\n",
       "      <td>0.670084</td>\n",
       "      <td>1.806513</td>\n",
       "      <td>0.844736</td>\n",
       "    </tr>\n",
       "    <tr>\n",
       "      <th>9997</th>\n",
       "      <td>1.018362</td>\n",
       "      <td>2.132979</td>\n",
       "      <td>1.016293</td>\n",
       "    </tr>\n",
       "    <tr>\n",
       "      <th>9998</th>\n",
       "      <td>0.761778</td>\n",
       "      <td>1.979109</td>\n",
       "      <td>0.910725</td>\n",
       "    </tr>\n",
       "    <tr>\n",
       "      <th>9999</th>\n",
       "      <td>0.775942</td>\n",
       "      <td>2.260311</td>\n",
       "      <td>1.029630</td>\n",
       "    </tr>\n",
       "  </tbody>\n",
       "</table>\n",
       "<p>10000 rows × 3 columns</p>\n",
       "</div>"
      ],
      "text/plain": [
       "      Treatment   Outcome    common\n",
       "0      0.719802  1.548032  0.610514\n",
       "1      0.585655  1.503280  0.776089\n",
       "2      0.051558  1.164839  0.274737\n",
       "3      0.502674  1.549806  0.389772\n",
       "4      1.035748  1.791152  0.868527\n",
       "...         ...       ...       ...\n",
       "9995   1.102864  2.300340  1.433419\n",
       "9996   0.670084  1.806513  0.844736\n",
       "9997   1.018362  2.132979  1.016293\n",
       "9998   0.761778  1.979109  0.910725\n",
       "9999   0.775942  2.260311  1.029630\n",
       "\n",
       "[10000 rows x 3 columns]"
      ]
     },
     "execution_count": 3,
     "metadata": {},
     "output_type": "execute_result"
    }
   ],
   "source": [
    "#Model1:\n",
    "data_dict = model(10000, effect=False, sd_error=0.2)    \n",
    "df = data_dict['df']  \n",
    "df"
   ]
  },
  {
   "cell_type": "code",
   "execution_count": 4,
   "metadata": {},
   "outputs": [],
   "source": [
    "#Model2:\n",
    "#data_dict = model(10000, effect=False, sd_error=0.2)    \n",
    "#df = data_dict['df']  "
   ]
  },
  {
   "cell_type": "markdown",
   "metadata": {},
   "source": [
    "# Using DoWhy to resolve the mystery: *Does Treatment cause Outcome variable?*\n",
    "## STEP 1: Model the problem as a causal graph\n",
    "Initializing the causal model."
   ]
  },
  {
   "cell_type": "code",
   "execution_count": 5,
   "metadata": {},
   "outputs": [
    {
     "name": "stderr",
     "output_type": "stream",
     "text": [
      "INFO:dowhy.causal_model:Model to find the causal effect of treatment ['Treatment'] on outcome ['Outcome']\n"
     ]
    },
    {
     "data": {
      "image/png": "[encoded data removed]",
      "text/plain": [
       "<IPython.core.display.Image object>"
      ]
     },
     "metadata": {},
     "output_type": "display_data"
    }
   ],
   "source": [
    "model= CausalModel(\n",
    "        data=df,\n",
    "        treatment=data_dict[\"treatment_name\"],\n",
    "        outcome=data_dict[\"outcome_name\"],\n",
    "        common_causes=data_dict[\"common_causes_names\"],\n",
    "        instruments=data_dict[\"instrument_names\"],\n",
    "        graph=\"\"\"graph[directed 1 node[id \"common\" label \"common\"]\n",
    "                    node[id \"Treatment\" label \"Treatment\"]\n",
    "                    node[id \"Outcome\" label \"Outcome\"]\n",
    "                    node[id \"Unobserved Confounders\" label \"Unobserved Confounders\"]\n",
    "                    edge[source \"common\" target \"Treatment\"]\n",
    "                    edge[source \"common\" target \"Outcome\"]\n",
    "                    edge[source \"Treatment\" target \"Outcome\"]\n",
    "                    edge[source \"Unobserved Confounders\" target \"Treatment\"]\n",
    "                    edge[source \"Unobserved Confounders\" target \"Outcome\"]]\"\"\"\n",
    "        )\n",
    "model.view_model()\n",
    "display(Image(filename=\"causal_model.png\"))"
   ]
  },
  {
   "cell_type": "markdown",
   "metadata": {},
   "source": [
    "## STEP 2: Identify causal effect using properties of the formal causal graph\n",
    "Identify the causal effect using properties of the causal graph.\n"
   ]
  },
  {
   "cell_type": "code",
   "execution_count": null,
   "metadata": {},
   "outputs": [
    {
     "name": "stderr",
     "output_type": "stream",
     "text": [
      "INFO:dowhy.causal_identifier:Common causes of treatment and outcome:['Unobserved Confounders', 'common']\n",
      "WARNING:dowhy.causal_identifier:If this is observed data (not from a randomized experiment), there might always be missing confounders. Causal effect cannot be identified perfectly.\n"
     ]
    }
   ],
   "source": [
    "identified_estimand = model.identify_effect()\n",
    "print(identified_estimand)"
   ]
  },
  {
   "cell_type": "markdown",
   "metadata": {},
   "source": [
    "## STEP 3: Estimate the causal effect\n",
    "\n",
    "Once we have the identified estimand, can use any statistical method to estimate the causal effect. \n",
    "\n",
    "Let's use Linear Regression for simplicity."
   ]
  },
  {
   "cell_type": "code",
   "execution_count": 29,
   "metadata": {
    "scrolled": true
   },
   "outputs": [
    {
     "name": "stderr",
     "output_type": "stream",
     "text": [
      "INFO:dowhy.causal_estimator:INFO: Using Linear Regression Estimator\n",
      "INFO:dowhy.causal_estimator:b: Outcome~Treatment+common\n"
     ]
    },
    {
     "name": "stdout",
     "output_type": "stream",
     "text": [
      "Causal Estimate is 0.9877190253114896\n"
     ]
    },
    {
     "data": {
      "image/png": "[encoded data removed]",
      "text/plain": [
       "<Figure size 576x432 with 1 Axes>"
      ]
     },
     "metadata": {
      "needs_background": "light"
     },
     "output_type": "display_data"
    }
   ],
   "source": [
    "estimate = model.estimate_effect(identified_estimand,\n",
    "        method_name=\"backdoor.linear_regression\")\n",
    "print(\"Causal Estimate is \" + str(estimate.value))\n",
    "\n",
    "# Plot Slope of line between treamtent and outcome =causal effect\n",
    "dowhy.plotter.plot_causal_effect(estimate, df[data_dict[\"treatment_name\"]], df[data_dict[\"outcome_name\"]])"
   ]
  },
  {
   "cell_type": "markdown",
   "metadata": {},
   "source": [
    "## STEP 4: Refuting the estimate (Sensitivity Analysis) "
   ]
  },
  {
   "cell_type": "markdown",
   "metadata": {},
   "source": [
    "### Adding a random common cause variable"
   ]
  },
  {
   "cell_type": "code",
   "execution_count": 30,
   "metadata": {},
   "outputs": [
    {
     "name": "stderr",
     "output_type": "stream",
     "text": [
      "INFO:dowhy.causal_estimator:INFO: Using Linear Regression Estimator\n",
      "INFO:dowhy.causal_estimator:b: Outcome~Treatment+common+w_random\n"
     ]
    },
    {
     "name": "stdout",
     "output_type": "stream",
     "text": [
      "Refute: Add a Random Common Cause\n",
      "Estimated effect:(0.9877190253114896,)\n",
      "New effect:(0.9877241830467902,)\n",
      "\n"
     ]
    }
   ],
   "source": [
    "res_random=model.refute_estimate(identified_estimand, estimate, method_name=\"random_common_cause\")\n",
    "print(res_random)"
   ]
  },
  {
   "cell_type": "markdown",
   "metadata": {},
   "source": [
    "### Replacing treatment with a random (placebo) variable"
   ]
  },
  {
   "cell_type": "code",
   "execution_count": 20,
   "metadata": {},
   "outputs": [
    {
     "name": "stderr",
     "output_type": "stream",
     "text": [
      "INFO:dowhy.causal_estimator:INFO: Using Linear Regression Estimator\n",
      "INFO:dowhy.causal_estimator:b: Outcome~placebo+common\n"
     ]
    },
    {
     "name": "stdout",
     "output_type": "stream",
     "text": [
      "Refute: Use a Placebo Treatment\n",
      "Estimated effect:(0.010085749159828739,)\n",
      "New effect:(-0.0004990755897924526,)\n",
      "\n"
     ]
    }
   ],
   "source": [
    "# If placebo_type is \"permute\", then the original treatment values are permuted by row\n",
    "res_placebo=model.refute_estimate(identified_estimand, estimate,\n",
    "        method_name=\"placebo_treatment_refuter\", placebo_type=\"permute\")\n",
    "print(res_placebo)"
   ]
  },
  {
   "cell_type": "markdown",
   "metadata": {},
   "source": [
    "### Removing a random subset of the data"
   ]
  },
  {
   "cell_type": "code",
   "execution_count": 21,
   "metadata": {},
   "outputs": [
    {
     "name": "stderr",
     "output_type": "stream",
     "text": [
      "INFO:dowhy.causal_estimator:INFO: Using Linear Regression Estimator\n",
      "INFO:dowhy.causal_estimator:b: Outcome~Treatment+common\n"
     ]
    },
    {
     "name": "stdout",
     "output_type": "stream",
     "text": [
      "Refute: Use a subset of data\n",
      "Estimated effect:(0.010085749159828739,)\n",
      "New effect:(0.009149469524865506,)\n",
      "\n"
     ]
    }
   ],
   "source": [
    "res_subset=model.refute_estimate(identified_estimand, estimate,\n",
    "        method_name=\"data_subset_refuter\", subset_fraction=0.8)\n",
    "print(res_subset)"
   ]
  },
  {
   "cell_type": "code",
   "execution_count": null,
   "metadata": {},
   "outputs": [],
   "source": []
  }
 ],
 "metadata": {
  "kernelspec": {
   "display_name": "Python 3",
   "language": "python",
   "name": "python3"
  },
  "language_info": {
   "codemirror_mode": {
    "name": "ipython",
    "version": 3
   },
   "file_extension": ".py",
   "mimetype": "text/x-python",
   "name": "python",
   "nbconvert_exporter": "python",
   "pygments_lexer": "ipython3",
   "version": "3.7.3"
  }
 },
 "nbformat": 4,
 "nbformat_minor": 2
}
